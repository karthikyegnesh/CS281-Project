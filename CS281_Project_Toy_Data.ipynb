{
  "nbformat": 4,
  "nbformat_minor": 0,
  "metadata": {
    "colab": {
      "name": "CS281 Project Toy Data.ipynb",
      "provenance": [],
      "collapsed_sections": [],
      "machine_shape": "hm"
    },
    "kernelspec": {
      "name": "python3",
      "display_name": "Python 3"
    },
    "accelerator": "GPU"
  },
  "cells": [
    {
      "cell_type": "markdown",
      "metadata": {
        "id": "G7CFgbJPTk9z",
        "colab_type": "text"
      },
      "source": [
        "Install all necessary packages"
      ]
    },
    {
      "cell_type": "code",
      "metadata": {
        "id": "a5XoySFnL6hR",
        "colab_type": "code",
        "colab": {}
      },
      "source": [
        "!pip install ripser"
      ],
      "execution_count": 0,
      "outputs": []
    },
    {
      "cell_type": "markdown",
      "metadata": {
        "id": "WeDVTgqBWRs-",
        "colab_type": "text"
      },
      "source": [
        "Import packages and check gpu availability"
      ]
    },
    {
      "cell_type": "code",
      "metadata": {
        "id": "be_5_vE58bcs",
        "colab_type": "code",
        "colab": {}
      },
      "source": [
        "# import PyTorch modules\n",
        "import torch\n",
        "import torch.nn as nn\n",
        "import torch.cuda as cuda\n",
        "import torch.optim as optim\n",
        "from torch.autograd import Variable\n",
        "from torch.nn import functional as F\n",
        "from torch.utils.data import DataLoader, TensorDataset, Dataset, WeightedRandomSampler, BatchSampler\n",
        "from torchvision import transforms\n",
        "from torchvision.datasets import ImageFolder\n",
        "# make sure that we only run with GPU hardware acceleration\n",
        "assert cuda.is_available()\n",
        "\n",
        "# import relevant image processing modules and functions\n",
        "from PIL import Image\n",
        "import imageio\n",
        "import cv2\n",
        "from google.colab.patches import cv2_imshow\n",
        "\n",
        "# import scientific computing\n",
        "import numpy as np\n",
        "import matplotlib.pyplot as plt\n",
        "from sklearn.metrics import f1_score\n",
        "from ripser import ripser\n",
        "from persim import plot_diagrams\n",
        "import math\n",
        "\n",
        "# import standard Python libraries\n",
        "import random\n",
        "import time\n",
        "import os\n",
        "import shutil\n",
        "from shutil import copyfile\n",
        "from collections import deque\n",
        "from glob import glob\n",
        "import pickle"
      ],
      "execution_count": 0,
      "outputs": []
    },
    {
      "cell_type": "markdown",
      "metadata": {
        "id": "P9C1mdhhWeN9",
        "colab_type": "text"
      },
      "source": [
        "Define funtions for generating toy data set, persistent homology vectors, and labels\n"
      ]
    },
    {
      "cell_type": "code",
      "metadata": {
        "id": "76dDMtnG-JV1",
        "colab_type": "code",
        "colab": {}
      },
      "source": [
        "# data-generation functions\n",
        "\n",
        "def generate_data(filename):\n",
        "    img = np.zeros((200,200,3), np.uint8)\n",
        "    num_circles = random.randint(2, 5)\n",
        "    for i in range(num_circles):\n",
        "        center = random.randint(40, 160), random.randint(40, 160)\n",
        "        radius = random.randint(10, 40)\n",
        "        width = random.randint(1, 5)\n",
        "        img = cv2.circle(img,center, radius, (255,255,255), width)\n",
        "    imageio.imwrite(filename, img)\n",
        "    return img\n",
        "\n",
        "# global variable to for exploratory analysis\n",
        "component_sizes = []\n",
        "\n",
        "# label generating function\n",
        "def count_holes(img, threshold=5):\n",
        "    def flood_fill(x, y, binary_np, label):\n",
        "        counter = 0\n",
        "        q = deque([(x, y)])\n",
        "        while len(q) > 0:\n",
        "            n_x, n_y = q.popleft()\n",
        "            if 0 <= n_x < binary_np.shape[0] and 0 <= n_y < binary_np.shape[1]:\n",
        "                if binary_np[n_x][n_y] == 0:\n",
        "                    counter += 1\n",
        "                    neighbors = [(n_x-1, n_y), (n_x+1, n_y),\n",
        "                                    (n_x, n_y-1), (n_x, n_y+1)]\n",
        "                    for neighbor in neighbors:\n",
        "                        q.append(neighbor)\n",
        "                    binary_np[n_x][n_y] = label + 1\n",
        "        return counter\n",
        "    img = np.array(img)\n",
        "    binary_np = np.zeros((img.shape[0], img.shape[1]), dtype=int)\n",
        "    for x in range(img.shape[0]):\n",
        "        for y in range(img.shape[1]):\n",
        "            if sum(img[x][y]) > 50:\n",
        "                binary_np[x][y] = 1\n",
        "    label = 0\n",
        "    num_valid_components = 0\n",
        "    for x in range(binary_np.shape[0]):\n",
        "        for y in range(binary_np.shape[1]):\n",
        "            if binary_np[x][y] == 0:\n",
        "                label += 1\n",
        "                component_size = flood_fill(x, y, binary_np, label)\n",
        "                component_sizes.append(component_size)\n",
        "                if component_size > threshold:\n",
        "                    num_valid_components += 1\n",
        "    return num_valid_components - 1\n",
        "\n",
        "def generate_point_cloud(filename, threshold = 0.005, plot = False):\n",
        "    # threshold is the probability that white pixel is converted to a point\n",
        "    image = cv2.imread(filename)\n",
        "    x_points, y_points, points = [], [], []\n",
        "    for i in range(900):\n",
        "        for j in range(900):\n",
        "            if image[i][j][0]==0:\n",
        "                rand = np.random.random()\n",
        "                if rand<threshold:\n",
        "                    x_points.append(i)\n",
        "                    y_points.append(j)\n",
        "                    points.append(np.array([i, j]))\n",
        "    if plot:\n",
        "        plt.scatter(x_points, y_points, marker = '+')\n",
        "        plt.show()\n",
        "    \n",
        "    return np.array(points).reshape(len(points), 2)\n",
        "\n",
        "def generate_data_from_file(file_name, dimension):\n",
        "    point_cloud = generate_point_cloud(file_name, plot = False)\n",
        "    diagrams = ripser(point_cloud)['dgms']\n",
        "    H0_points, H1_points = diagrams\n",
        "    diff = lambda x: x[1]-x[0]\n",
        "    H1_diffs = torch.Tensor([diff(point) for point in H1_points])  \n",
        "    adj_dimension = min(dimension, len(H1_diffs))\n",
        "    top_H1_diffs, indices = H1_diffs.topk(adj_dimension)\n",
        "    \n",
        "    return top_H1_diffs\n"
      ],
      "execution_count": 0,
      "outputs": []
    },
    {
      "cell_type": "markdown",
      "metadata": {
        "id": "mFB_HJ9pWzvf",
        "colab_type": "text"
      },
      "source": [
        "Generate data set of images, persitent homology vectors, and labels from toy data."
      ]
    },
    {
      "cell_type": "code",
      "metadata": {
        "id": "Dgl-FZtOl6gm",
        "colab_type": "code",
        "colab": {}
      },
      "source": [
        "# create directories\n",
        "if os.path.exists(\"data_raw\"):\n",
        "    shutil.rmtree(\"data_raw\")\n",
        "os.mkdir(\"data_raw\")\n",
        "\n",
        "# generate data\n",
        "num_samples = 10000\n",
        "for i in range(num_samples):\n",
        "    generate_data('data_raw/' + str(i).zfill(4) + \".png\")\n",
        "    if i % 50 == 0:\n",
        "        print(\"Generated {} samples\".format(str(i).zfill(4)))"
      ],
      "execution_count": 0,
      "outputs": []
    },
    {
      "cell_type": "code",
      "metadata": {
        "id": "rLDjfNsPimnd",
        "colab_type": "code",
        "colab": {}
      },
      "source": [
        "# generate persistent homology vectos\n",
        "topology_data = []\n",
        "files = sorted(glob('data_raw/[0-9][0-9][0-9][0-9].png'))\n",
        "for file in files:\n",
        "    topology_data.append(enerate_data_from_file(file, 20))"
      ],
      "execution_count": 0,
      "outputs": []
    },
    {
      "cell_type": "code",
      "metadata": {
        "id": "svf_A5g1W91D",
        "colab_type": "code",
        "colab": {}
      },
      "source": [
        "# generate labels\n",
        "labels = []\n",
        "for i in range(num_samples):\n",
        "    image = np.array(Image.open('data/' + str(i).zfill(4) + \".png\"))\n",
        "    label = count_holes(image, threshold=5)\n",
        "    labels.append(label)\n",
        "    if i % 10 == 0:\n",
        "        print(\"Labeled {} samples\".format(str(i).zfill(4)))"
      ],
      "execution_count": 0,
      "outputs": []
    },
    {
      "cell_type": "markdown",
      "metadata": {
        "id": "64jAC_O1XK-g",
        "colab_type": "text"
      },
      "source": [
        "Turn data into zip files so that we can store the data locally rather than have to generate it each time"
      ]
    },
    {
      "cell_type": "code",
      "metadata": {
        "id": "EHE5ZyE7ZjAK",
        "colab_type": "code",
        "colab": {}
      },
      "source": [
        "!zip -r /content/data_raw.zip /content/data_raw"
      ],
      "execution_count": 0,
      "outputs": []
    },
    {
      "cell_type": "markdown",
      "metadata": {
        "id": "TAREnHgWaLzl",
        "colab_type": "text"
      },
      "source": [
        "Alternatively, if we are returning to this notebook after having already generated the data, then we may just want to load in the data rather than create new data.\n",
        "Here, unzip our data and remove previous existing folders if needed.\n",
        "Before running the next cell, make sure that you have added `data_raw.zip` to the `contents` folder of the colab environment."
      ]
    },
    {
      "cell_type": "code",
      "metadata": {
        "id": "qQwO3oy7ag8F",
        "colab_type": "code",
        "colab": {}
      },
      "source": [
        "if os.path.exists(\"data_raw\"):\n",
        "    shutil.rmtree(\"data_raw\")\n",
        "!unzip data_raw.zip -d ../content/data_raw/"
      ],
      "execution_count": 0,
      "outputs": []
    },
    {
      "cell_type": "markdown",
      "metadata": {
        "id": "32BsWgz2xuB_",
        "colab_type": "text"
      },
      "source": [
        "Save or Load `labels.pkl` and `topology_data.pkl`."
      ]
    },
    {
      "cell_type": "code",
      "metadata": {
        "id": "IB1oeYc5i4W4",
        "colab_type": "code",
        "colab": {}
      },
      "source": [
        "# Save the persistent homolgy vector as .pkl\n",
        "with open('topology_data.pkl', 'wb') as file:\n",
        "    pickle.dump(topology_data, file)"
      ],
      "execution_count": 0,
      "outputs": []
    },
    {
      "cell_type": "code",
      "metadata": {
        "id": "ZvNTdgYq_RLZ",
        "colab_type": "code",
        "colab": {}
      },
      "source": [
        "# Save labels as .pkl\n",
        "with open('labels.pkl', 'wb') as file:\n",
        "    pickle.dump(labels, file)"
      ],
      "execution_count": 0,
      "outputs": []
    },
    {
      "cell_type": "code",
      "metadata": {
        "id": "iItHGar_h9f7",
        "colab_type": "code",
        "colab": {}
      },
      "source": [
        "# Load topology data from .pkl as list\n",
        "with open('topology_data.pkl', 'rb') as file:\n",
        "    topology_data = pickle.load(file)\n",
        "\n",
        "# pad the vector with 0's\n",
        "processed_top_data = []\n",
        "for index, top_vector in topology_data:\n",
        "    padded = np.zeros(20, dtype=np.float32)\n",
        "    padded[:len(top_vector)] = top_vector\n",
        "    processed_top_data.append(padded)"
      ],
      "execution_count": 0,
      "outputs": []
    },
    {
      "cell_type": "code",
      "metadata": {
        "id": "-_4Mq_y3ew-e",
        "colab_type": "code",
        "colab": {}
      },
      "source": [
        "# Load labels from .pkl as list\n",
        "with open('labels.pkl', 'rb') as file:\n",
        "    labels = pickle.load(file)"
      ],
      "execution_count": 0,
      "outputs": []
    },
    {
      "cell_type": "markdown",
      "metadata": {
        "id": "EeeFXsZH84C2",
        "colab_type": "text"
      },
      "source": [
        "Toy Dataset\n",
        " *   Images from our toy data set + cropped labels\n",
        " *   Topological data extracted the images using persistent homology + cropped labels\n",
        " *   Combining both into a single data set + cropped labels\n"
      ]
    },
    {
      "cell_type": "code",
      "metadata": {
        "id": "a2zkTPp3okeb",
        "colab_type": "code",
        "colab": {}
      },
      "source": [
        "MAX_HOLES = 10\n",
        "\n",
        "class ImageData(Dataset):\n",
        "    def __init__(self, image_file_locations, labels):\n",
        "        self.image_file_locations = image_file_locations\n",
        "        self.images = [Image.open(file) for file in image_file_locations]\n",
        "        self.images = [image.resize((200, 200)) for image in self.images]\n",
        "        self.image_np_arrays = [np.array(image, dtype=np.float32).transpose((2,0,1)) for image in self.images]\n",
        "        self.labels = labels\n",
        "\n",
        "    def __len__(self):\n",
        "        return len(self.labels)\n",
        "\n",
        "    def __getitem__(self, idx):\n",
        "        return self.image_np_arrays[idx], self.labels[idx]\n",
        "\n",
        "class TopologicalData(Dataset):\n",
        "    def __init__(self, topology_data, labels):\n",
        "        self.topology_data = topology_data\n",
        "        self.labels = labels\n",
        "\n",
        "    def __len__(self):\n",
        "        return len(self.labels)\n",
        "    \n",
        "    def __getitem__(self, idx):\n",
        "        return self.topology_data[idx], self.labels[idx]\n",
        "\n",
        "class ImageAndTopologicalData(Dataset):\n",
        "    def __init__(self, image_file_locations, topology_data, labels):\n",
        "        self.image_file_locations = image_file_locations\n",
        "        self.images = [Image.open(file) for file in image_file_locations]\n",
        "        self.images = [image.resize((200, 200)) for image in self.images]\n",
        "        self.image_np_arrays = [np.array(image, dtype=np.float32).transpose((2,0,1)) for image in self.images]\n",
        "        self.topology_data = topology_data\n",
        "        self.labels = labels\n",
        "\n",
        "    def __len__(self):\n",
        "        return len(self.labels)\n",
        "\n",
        "    def __getitem__(self, idx):\n",
        "        return (self.image_np_arrays[idx], self.topology_data[idx]), self.labels[idx]"
      ],
      "execution_count": 0,
      "outputs": []
    },
    {
      "cell_type": "code",
      "metadata": {
        "id": "REZaTFKU4RVW",
        "colab_type": "code",
        "colab": {}
      },
      "source": [
        "# Toy Datasets\n",
        "files = sorted(glob('data_raw/[0-9][0-9][0-9][0-9].png'))\n",
        "cropped_labels = [max(min(MAX_HOLES + 1, i), 2) - 2 for i in labels]\n",
        "image_data = ImageData(files, cropped_labels)\n",
        "topological_data = TopologicalData(processed_top_data, cropped_labels)\n",
        "image_and_topological_data = ImageAndTopologicalData(files, processed_top_data, cropped_labels)\n"
      ],
      "execution_count": 0,
      "outputs": []
    },
    {
      "cell_type": "markdown",
      "metadata": {
        "id": "m_D0L2Agdcew",
        "colab_type": "text"
      },
      "source": [
        "Define the functions that we will use to initialize the DataLoader's that we will use for our experiments. Make sure that the data sets have been initialized in the previous cell."
      ]
    },
    {
      "cell_type": "code",
      "metadata": {
        "id": "rhEbMnNTzXdA",
        "colab_type": "code",
        "colab": {}
      },
      "source": [
        "bs = 64 # may need to be adjusted depending on GPU size\n",
        "\n",
        "def get_stratified_sampler(data):\n",
        "    labels = [label for _, label in data]\n",
        "    frequencies = np.bincount(labels)\n",
        "    weights = [1/frequencies[label] for label in labels]\n",
        "    return WeightedRandomSampler(weights, len(weights), replacement=True)\n",
        "\n",
        "def get_data_loaders(data, split=(7000, 1000, 2000)):\n",
        "    train, validation, test = torch.utils.data.random_split(data, split)\n",
        "    train_loader = DataLoader(train, sampler=get_stratified_sampler(train), batch_size=bs)\n",
        "    validation_loader = DataLoader(validation, sampler=get_stratified_sampler(validation), batch_size=bs)\n",
        "    test_loader = DataLoader(test, sampler=get_stratified_sampler(test), batch_size=bs)\n",
        "    return train_loader, validation_loader, test_loader\n"
      ],
      "execution_count": 0,
      "outputs": []
    },
    {
      "cell_type": "markdown",
      "metadata": {
        "id": "pypD74xfd5Oa",
        "colab_type": "text"
      },
      "source": [
        "Define the Neural Network structures that we will use for our experiments.\n",
        "These include\n",
        "\n",
        "*   Vanilla Convolutional Neural Network\n",
        "*   Convolutional Neural Network with OrdinalRegression Layer with pre-determined thresholds\n",
        "*   Convolutional Neural Network with OrdinalRegression Layer with trainable thresholds\n",
        "*   Sparse single-layer network with sigmoid activation (for inputting homological data)\n",
        "\n"
      ]
    },
    {
      "cell_type": "code",
      "metadata": {
        "id": "FP7hse07-QeQ",
        "colab_type": "code",
        "colab": {}
      },
      "source": [
        "# baseline model, one-layer convnet\n",
        "class ConvNet(torch.nn.Module):\n",
        "\n",
        "    # batch shape for input x is (bs, img_size, img_size)\n",
        "    \n",
        "    def __init__(self, conv_dropout=0.0, fc_dropout=0.0, num_labels=11):\n",
        "        super(ConvNet, self).__init__()\n",
        "        self.conv_block = ConvBlock(output_size=num_labels)\n",
        "        self.softmax = nn.Softmax(dim=1)\n",
        "        \n",
        "    def forward(self, x, inference=False):\n",
        "        x = self.conv_block(x)\n",
        "\n",
        "        # We handle training and inference separately, see documentation for CrossEntropyLoss\n",
        "        # https://pytorch.org/docs/stable/nn.html#torch.nn.CrossEntropyLoss\n",
        "        if inference:\n",
        "            x = self.softmax(x)\n",
        "            return x\n",
        "        else:\n",
        "            return x\n",
        "\n",
        "class ConvBlock(nn.Module):\n",
        "    def __init__(self, conv_dropout=0.0, fc_dropout=0.0, output_size=10):\n",
        "        super(ConvBlock, self).__init__()\n",
        "                \n",
        "        self.conv = nn.Conv2d(3, 1, kernel_size=2, stride=1)\n",
        "        self.pool = nn.MaxPool2d(kernel_size=2)\n",
        "        self.conv2 = nn.Conv2d(1, 1, kernel_size=2, stride=1)\n",
        "        self.pool2 = nn.MaxPool2d(kernel_size=2)\n",
        "        self.conv3 = nn.Conv2d(1, 1, kernel_size=2, stride=1)\n",
        "        self.pool3 = nn.MaxPool2d(kernel_size=2)\n",
        "        self.fc1 = nn.Linear(576, 100)\n",
        "        self.fc2 = nn.Linear(100, output_size)\n",
        "\n",
        "    def forward(self, x, inference=False):\n",
        "        \n",
        "        # Computes activation of the first convolution\n",
        "        # Size changes from (bs, img_size, img_size) to (cnn_output, img_size, img_size)\n",
        "        x = F.relu(self.conv(x))\n",
        "        x = self.pool(x)\n",
        "        x = F.relu(self.conv2(x))\n",
        "        x = self.pool2(x)\n",
        "        x = F.relu(self.conv3(x))\n",
        "        x = self.pool3(x)\n",
        "        x = x.view(x.shape[0], -1)\n",
        "        x = F.relu(self.fc1(x))\n",
        "        x = self.fc2(x)\n",
        "        return x"
      ],
      "execution_count": 0,
      "outputs": []
    },
    {
      "cell_type": "code",
      "metadata": {
        "id": "hON6YEUuqn18",
        "colab_type": "code",
        "colab": {}
      },
      "source": [
        "class OrdinalRegressionLayer(nn.Module):\n",
        "    \"\"\"\n",
        "    Expected input shape: (batch_size, 1)\n",
        "    Expected output shape: (batch_size, num_labels)\n",
        "\n",
        "    Assume that we are running on cuda\n",
        "    \"\"\"\n",
        "    def __init__(self, num_labels=10, trainable=False):\n",
        "        self.num_labels = num_labels\n",
        "        super(OrdinalRegressionLayer, self).__init__()\n",
        "        self.register_buffer(\"partition\", torch.zeros(num_labels + 1))\n",
        "        cutoffs = nn.Parameter(torch.Tensor(np.linspace(start=0, stop=10, num=self.num_labels - 1)))\n",
        "        self.register_parameter(\"cutoffs\", cutoffs)\n",
        "        self.cutoffs.requires_grad = trainable\n",
        "        self.partition[1: -1] = self.cutoffs\n",
        "        self.partition[0] = -float(\"inf\")\n",
        "        self.partition[-1] = float(\"inf\")\n",
        "        self.register_buffer(\"left_tensor\", self.partition[:-1])\n",
        "        self.register_buffer(\"right_tensor\", self.partition[1:])\n",
        "\n",
        "        \n",
        "    def forward(self, x):\n",
        "        # array broadcasting handles adding tensors of shape (batch_size, num_labels) and (batch_size, 1)\n",
        "        prob1 = torch.sigmoid(self.right_tensor - x)\n",
        "        prob2 = torch.sigmoid(self.left_tensor - x)\n",
        "        return prob1 - prob2\n",
        "    \n",
        "    def extra_repr(self):\n",
        "        return 'outputs={}'.format(self.num_labels)\n",
        "\n",
        "# baseline model, one-layer convnet\n",
        "class OrdinalConvNet(nn.Module):\n",
        "    # batch shape for input x is (bs, img_size, img_size)\n",
        "    def __init__(self, conv_dropout=0.0, fc_dropout=0.0, num_labels=10, trainable_ordinal_thresholds=False):\n",
        "        super(OrdinalConvNet, self).__init__()\n",
        "        self.conv_block = ConvBlock(output_size=num_labels)\n",
        "        self.fc = nn.Linear(num_labels, 1)\n",
        "        self.ordinal_regression = OrdinalRegressionLayer(num_labels=num_labels, trainable=trainable_ordinal_thresholds)\n",
        "        \n",
        "    def forward(self, x, inference=False):\n",
        "        \n",
        "        # Computes activation of the first convolution\n",
        "        # Size changes from (bs, img_size, img_size) to (cnn_output, img_size, img_size)\n",
        "        x = self.conv_block(x)\n",
        "        x = self.fc(x)\n",
        "        x = self.ordinal_regression(x)\n",
        "        # We handle training and inference separately because NLLLoss expects log-probabilities, see documentation\n",
        "        # https://pytorch.org/docs/stable/nn.html#torch.nn.NLLLoss\n",
        "        if inference:\n",
        "            return x\n",
        "        else:\n",
        "            x = torch.log(x)\n",
        "            return x"
      ],
      "execution_count": 0,
      "outputs": []
    },
    {
      "cell_type": "code",
      "metadata": {
        "id": "9ZMa_MYPUMqx",
        "colab_type": "code",
        "colab": {}
      },
      "source": [
        "class SparseLinear(nn.Module):\n",
        "    def __init__(self, input_size, single_scaling=True):\n",
        "        self.input_size = input_size\n",
        "        super(SparseLinear, self).__init__()\n",
        "        weights = nn.Parameter(torch.Tensor(1 if single_scaling else self.input_size).float())\n",
        "        self.register_parameter(\"weights\", weights)\n",
        "        self.register_parameter(\"bias\", nn.Parameter(torch.Tensor(1).float()))\n",
        "        nn.init.normal_(self.weights.data, 1, 1/self.input_size)\n",
        "        nn.init.normal_(self.bias.data, 0, 1)\n",
        "    def forward(self, x):\n",
        "        return x * self.weights + self.bias\n",
        "    \n",
        "    def extra_repr(self):\n",
        "        return 'features={}'.format(self.input_size)\n",
        "        \n",
        "\n",
        "class OrdinalTopNet(torch.nn.Module):\n",
        "    def __init__(self, num_labels=10, trainable_ordinal_thresholds=False):\n",
        "        super(OrdinalTopNet, self).__init__()\n",
        "        self.sparse_linear = SparseLinear(input_size=20)\n",
        "        self.fc = nn.Linear(20, 1)\n",
        "        nn.init.normal_(self.fc.weight.data, mean=0.5, std=1/20)\n",
        "        self.ordinal_regression = OrdinalRegressionLayer(num_labels=num_labels, trainable=trainable_ordinal_thresholds)\n",
        "\n",
        "    def forward(self, x, inference=False):\n",
        "        # Use broadcasting to multiply Tensors of size (batch_size, 20) and (20,)\n",
        "        x = torch.sigmoid(self.sparse_linear(x))\n",
        "        x = self.fc(x)\n",
        "        x = self.ordinal_regression(x)\n",
        "        # We handle training and inference separately because NLLLoss expects log-probabilities, see documentation\n",
        "        # https://pytorch.org/docs/stable/nn.html#torch.nn.NLLLoss\n",
        "        if inference:\n",
        "            return x\n",
        "        else:\n",
        "            x = torch.log(x)\n",
        "            return x\n",
        "    def extr_reptr(self):\n",
        "        return 'num_labels={}'.format(num_labels)"
      ],
      "execution_count": 0,
      "outputs": []
    },
    {
      "cell_type": "code",
      "metadata": {
        "id": "KiU8oGyyUesu",
        "colab_type": "code",
        "colab": {}
      },
      "source": [
        "class TopConvNet(nn.Module):\n",
        "    # batch shape for input x is (bs, img_size, img_size)\n",
        "    def __init__(self, conv_output_size=1, output_size=10, add_softmax=False):\n",
        "        super(TopConvNet, self).__init__()\n",
        "        self.conv_block = ConvBlock(output_size=conv_output_size)\n",
        "        self.sparse_linear = SparseLinear(20)\n",
        "        self.fcc = nn.Linear(conv_output_size + 20, output_size)\n",
        "        self.add_softmax = add_softmax\n",
        "        if self.add_softmax:\n",
        "            self.softmax = nn.Softmax(dim=1)\n",
        "       \n",
        "    def forward(self, inputs):\n",
        "        x, y = inputs\n",
        "        x = self.conv_block(x)\n",
        "        \n",
        "        y = torch.sigmoid(self.sparse_linear(y))\n",
        "\n",
        "        z = torch.cat([x, y], dim=1)\n",
        "        z = self.fcc(z)\n",
        "        if self.add_softmax:\n",
        "            z = self.softmax(z)\n",
        "        return z\n",
        "\n",
        "class OrdinalTopConvNet(nn.Module):\n",
        "    def __init__(self, num_labels=10, trainable_ordinal_thresholds=False):\n",
        "        super(OrdinalTopConvNet, self).__init__()\n",
        "        self.top_conv_net = TopConvNet(conv_output_size=num_labels, output_size=num_labels)\n",
        "        self.ordinal_regression = OrdinalRegressionLayer(num_labels=num_labels)\n",
        "    def forward(self, inputs, inference=False):\n",
        "        z = self.top_conv_net(inputs)\n",
        "        z = self.ordinal_regression(z)\n",
        "        if inference:\n",
        "            return z\n",
        "        else:\n",
        "            z = torch.log(z)\n",
        "            return z"
      ],
      "execution_count": 0,
      "outputs": []
    },
    {
      "cell_type": "markdown",
      "metadata": {
        "id": "54-1V9xajvNA",
        "colab_type": "text"
      },
      "source": [
        "Define the training and evaluation functions. Also define the plots."
      ]
    },
    {
      "cell_type": "code",
      "metadata": {
        "id": "alMhxbCpxn3-",
        "colab_type": "code",
        "colab": {}
      },
      "source": [
        "def train(model, optimizer, criterion, num_epochs, train_loader, validation_loader, save_model, cuda=True, report_every=10):\n",
        "    start = time.time()\n",
        "    if cuda:\n",
        "        model = model.cuda()\n",
        "    losses = {'validation': [], 'train': []}\n",
        "    best_validation_loss = float(\"inf\")\n",
        "    data_loaders = {'validation': validation_loader, 'train': train_loader}\n",
        "    try:\n",
        "        for epoch in range(num_epochs):\n",
        "            for phase in ['validation', 'train']:\n",
        "                if phase == 'train':\n",
        "                    model.train(True)\n",
        "                else:\n",
        "                    model.train(False)\n",
        "                epoch_loss = 0\n",
        "                batch_counter = 0\n",
        "                for inputs, labels in data_loaders[phase]:\n",
        "                    if cuda:\n",
        "                        labels = labels.cuda()\n",
        "                        if type(inputs) == list:\n",
        "                            inputs = [inpt.cuda() for inpt in inputs]\n",
        "                        else:\n",
        "                            inputs = inputs.cuda()\n",
        "                    output = model(inputs)\n",
        "                    loss = criterion(output, labels)\n",
        "                    optimizer.zero_grad()\n",
        "                    if phase == 'train':\n",
        "                        loss.backward(retain_graph=True)\n",
        "                        optimizer.step()\n",
        "                    # calculate epoch loss through running total\n",
        "                    epoch_loss += loss.item()\n",
        "                    batch_counter += 1\n",
        "                losses[phase].append(epoch_loss / batch_counter)\n",
        "                if phase == 'validation':\n",
        "                    if losses[phase][-1] < best_validation_loss:\n",
        "                        best_validation_loss = losses[phase][-1]\n",
        "                        torch.save(model.state_dict(), save_model)\n",
        "                if (epoch + 1)% report_every == 0:\n",
        "                    print(\"Epoch: \" + str(epoch + 1) + \",\" + \" {} loss: \".format(phase) + str(losses[phase][-1]))\n",
        "                    if phase == \"train\":\n",
        "                        print(\"Time elapsed: {} seconds\".format('%.3f'%(time.time() - start)))\n",
        "    except KeyboardInterrupt:\n",
        "        print(\"You have stopped the training early.\")\n",
        "    print(\"Best validation loss: {}\".format(best_validation_loss))\n",
        "    return losses\n",
        "\n",
        "\n",
        "def evaluate(model, best_model_file, test_loader, criterion):\n",
        "    model.eval()\n",
        "    model.cuda()\n",
        "    for model_version in ['final', 'best']:\n",
        "        test_labels = []\n",
        "        test_preds = []\n",
        "        test_loss = 0\n",
        "        if model_version == 'best':\n",
        "            model.load_state_dict(torch.load(best_model_file))\n",
        "        with torch.no_grad():\n",
        "            test_points_counter = 0\n",
        "            for inputs, labels in test_loader:\n",
        "                test_labels += list(labels)\n",
        "                if type(inputs) == list:\n",
        "                    inputs = [inpt.cuda() for inpt in inputs]\n",
        "                else:\n",
        "                    inputs = inputs.cuda()\n",
        "                labels = torch.LongTensor([int(label) for label in labels]).cuda()\n",
        "                output = model(inputs)\n",
        "                loss = criterion(output, labels)\n",
        "                test_loss += loss.item() # divide by normalizing constant\n",
        "                preds = output.argmax(dim=1) # check this, want to find largest probability from softmax layer\n",
        "                test_preds += list(preds)\n",
        "                test_points_counter += 1\n",
        "        accuracy = sum(np.asarray(test_labels) == np.asarray(test_preds)) / len(test_labels)\n",
        "        print(\"Test Loss: {} on {} model\".format(str(test_loss / test_points_counter), model_version))\n",
        "        print(\"Accuracy: {} on {} model\".format(str(accuracy), model_version))\n",
        "\n",
        "\n",
        "def plot(losses, title, length=25):\n",
        "    plt.figure(title)\n",
        "    plt.plot([i for i in range(1, length + 1)], losses[\"train\"][:length], label=\"Training Loss\")\n",
        "    plt.plot([i for i in range(1, length + 1)], losses[\"validation\"][:length], label=\"Validation Loss\")\n",
        "    plt.ylabel(\"Negative Log-Likelihood\")\n",
        "    plt.xlabel(\"Epochs\")\n",
        "    plt.title(title)\n",
        "    plt.legend()\n",
        "    plt.show()\n",
        "\n"
      ],
      "execution_count": 0,
      "outputs": []
    },
    {
      "cell_type": "markdown",
      "metadata": {
        "id": "PGaEJMVaZ-pT",
        "colab_type": "text"
      },
      "source": [
        "Initialize DataLoader's"
      ]
    },
    {
      "cell_type": "code",
      "metadata": {
        "id": "plrHElTMZ9mc",
        "colab_type": "code",
        "colab": {}
      },
      "source": [
        "# Toy Dataset\n",
        "split = [7000, 1000, 2000]\n",
        "image_train, image_validation, image_test = get_data_loaders(image_data, split=split)\n",
        "top_train, top_validation, top_test = get_data_loaders(topological_data, split=split)\n",
        "image_top_train, image_top_validation, image_and_top_test = get_data_loaders(image_and_topological_data, split=split)"
      ],
      "execution_count": 0,
      "outputs": []
    },
    {
      "cell_type": "markdown",
      "metadata": {
        "id": "cYdMCi9gnNZm",
        "colab_type": "text"
      },
      "source": [
        "Train the following models with the appropriate loss function"
      ]
    },
    {
      "cell_type": "code",
      "metadata": {
        "id": "4Zh1wn2fLeA7",
        "colab_type": "code",
        "colab": {}
      },
      "source": [
        "# Toy Dataset\n",
        "\n",
        "criterion = nn.CrossEntropyLoss()\n",
        "conv_model = ConvNet()\n",
        "optimizer = optim.Adam(conv_model.parameters(), lr=0.0001, weight_decay=0.001)\n",
        "categorical_losses = train(conv_model, optimizer=optimizer, criterion=criterion, save_model=\"ConvNet.pkl\", num_epochs=25, \n",
        "      train_loader=image_train, validation_loader=image_validation, cuda=True, report_every=5)\n",
        "\n",
        "criterion = nn.NLLLoss()\n",
        "ordinal_conv_model = OrdinalConvNet(num_labels=MAX_HOLES, trainable_ordinal_thresholds=False)\n",
        "optimizer = optim.Adam(ordinal_conv_model.parameters(), lr=0.0001, weight_decay=0.001)\n",
        "ordinal_losses = train(ordinal_conv_model, optimizer=optimizer, criterion=criterion, save_model=\"OrdinalConvNet_nontrainable_thresholds.pkl\", num_epochs=25, \n",
        "      train_loader=image_train, validation_loader=image_validation, cuda=True, report_every=1)\n",
        "\n",
        "criterion = nn.NLLLoss()\n",
        "top_model = OrdinalTopNet(num_labels=MAX_HOLES, trainable_ordinal_thresholds=False)\n",
        "optimizer = optim.Adam(top_model.parameters(), lr=0.0001, weight_decay=0.001)\n",
        "topnet_losses = train(top_model, optimizer=optimizer, criterion=criterion, save_model=\"TopNet.pkl\", num_epochs=1000, \n",
        "      train_loader=top_train, validation_loader=top_validation, cuda=True, report_every=5)\n",
        "\n",
        "criterion = nn.NLLLoss()\n",
        "top_conv_model = OrdinalTopConvNet(num_labels=MAX_HOLES, trainable_ordinal_thresholds=False).cuda()\n",
        "optimizer = optim.Adam(top_conv_model.parameters(), lr=0.0001, weight_decay=0.001)\n",
        "top_conv_losses = train(top_conv_model, optimizer=optimizer, criterion=criterion, save_model=\"TopConvNet.pkl\", num_epochs=50, \n",
        "      train_loader=image_top_train, validation_loader=image_top_validation, cuda=True, report_every=5)\n"
      ],
      "execution_count": 0,
      "outputs": []
    },
    {
      "cell_type": "code",
      "metadata": {
        "id": "7nWo5wiph8nD",
        "colab_type": "code",
        "outputId": "8f53d1ae-e865-4c1b-dccd-11067a09590b",
        "colab": {
          "base_uri": "https://localhost:8080/",
          "height": 1000
        }
      },
      "source": [
        "plot(categorical_losses, \"Train/Validation Loss for CNN\")\n",
        "plot(ordinal_losses, \"Train/Validation Loss for CNN + Ordinal Layers\")\n",
        "plot(topnet_losses, \"Train/Validation Loss for Topological Features\", length=1000)\n",
        "plot(top_conv_losses, \"Train/Validation Loss for CNN + Topological Features\", length=30)"
      ],
      "execution_count": 0,
      "outputs": [
        {
          "output_type": "display_data",
          "data": {
            "image/png": "[encoded data removed]",
            "text/plain": [
              "<Figure size 432x288 with 1 Axes>"
            ]
          },
          "metadata": {
            "tags": []
          }
        },
        {
          "output_type": "display_data",
          "data": {
            "image/png": "[encoded data removed]",
            "text/plain": [
              "<Figure size 432x288 with 1 Axes>"
            ]
          },
          "metadata": {
            "tags": []
          }
        },
        {
          "output_type": "display_data",
          "data": {
            "image/png": "[encoded data removed]",
            "text/plain": [
              "<Figure size 432x288 with 1 Axes>"
            ]
          },
          "metadata": {
            "tags": []
          }
        },
        {
          "output_type": "display_data",
          "data": {
            "image/png": "[encoded data removed]",
            "text/plain": [
              "<Figure size 432x288 with 1 Axes>"
            ]
          },
          "metadata": {
            "tags": []
          }
        }
      ]
    },
    {
      "cell_type": "code",
      "metadata": {
        "id": "Oym18pFR00X7",
        "colab_type": "code",
        "outputId": "415758ff-fa8e-4912-fe00-2760b3188b50",
        "colab": {
          "base_uri": "https://localhost:8080/",
          "height": 315
        }
      },
      "source": [
        "evaluate(conv_model, \"ConvNet.pkl\", image_test, nn.CrossEntropyLoss())\n",
        "evaluate(ordinal_conv_model, \"OrdinalConvNet_nontrainable_thresholds.pkl\", image_test, nn.NLLLoss())\n",
        "evaluate(top_model, \"TopNet.pkl\", top_test, nn.NLLLoss())\n",
        "evaluate(top_conv_model, \"TopConvNet.pkl\", image_and_top_test, nn.NLLLoss())"
      ],
      "execution_count": 0,
      "outputs": [
        {
          "output_type": "stream",
          "text": [
            "Test Loss: 5.686664551496506 on final model\n",
            "Accuracy: 0.1925 on final model\n",
            "Test Loss: 2.3293142169713974 on best model\n",
            "Accuracy: 0.1245 on best model\n",
            "Test Loss: 1.8741531781852245 on final model\n",
            "Accuracy: 0.2775 on final model\n",
            "Test Loss: 1.9601176269352436 on best model\n",
            "Accuracy: 0.269 on best model\n",
            "Test Loss: 1.505206748843193 on final model\n",
            "Accuracy: 0.3815 on final model\n",
            "Test Loss: 1.5261287726461887 on best model\n",
            "Accuracy: 0.372 on best model\n",
            "Test Loss: 0.94579903408885 on final model\n",
            "Accuracy: 0.1015 on final model\n",
            "Test Loss: 0.9604617729783058 on best model\n",
            "Accuracy: 0.1055 on best model\n"
          ],
          "name": "stdout"
        }
      ]
    }
  ]
}